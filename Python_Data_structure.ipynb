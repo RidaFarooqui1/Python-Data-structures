{
  "nbformat": 4,
  "nbformat_minor": 0,
  "metadata": {
    "colab": {
      "provenance": []
    },
    "kernelspec": {
      "name": "python3",
      "display_name": "Python 3"
    },
    "language_info": {
      "name": "python"
    }
  },
  "cells": [
    {
      "cell_type": "markdown",
      "source": [
        "# 1. What are Data structures and why are they important?\n",
        "\n",
        "-> Data stuctures are a way of storing, organizing and managing data in a computer due to this they are important as they enable a efficient algorithm and memory usages"
      ],
      "metadata": {
        "id": "wQgYKIfJYK93"
      }
    },
    {
      "cell_type": "markdown",
      "source": [
        "# 2.  Explain the difference between mutable and immutable data types with examples\n",
        "\n",
        "-> Mutable data type: the data type that can be changed even after they are created\n",
        "Ex: lists, dictionaries.\n",
        "\n",
        "->Immutable data type: the type of data that cannot change after its initialization\n",
        "Ex: typles, strings.\n"
      ],
      "metadata": {
        "id": "ma8wZ0hwYh6U"
      }
    },
    {
      "cell_type": "markdown",
      "source": [
        "# 3. What are the main differences between lists and tuples in Pyhton?\n",
        "\n",
        "-> The main difference between lists and tuples is that lists are mutable meaning after they are created, the values/elements can be changed, modified, or be removed, while in typles they are immutables meaning after they are created the elements cannot be changed, modified or removed."
      ],
      "metadata": {
        "id": "qveDR7QsYdme"
      }
    },
    {
      "cell_type": "markdown",
      "source": [
        "# 4. Descibe how dictionaries are stored\n",
        "\n",
        "-> Dictionaries store data as key-value pairs. the key within a dictionary shoukld be unique and immutable, the data stored in a dictionary are in unordered manner."
      ],
      "metadata": {
        "id": "t_lXxzwVY-xx"
      }
    },
    {
      "cell_type": "markdown",
      "source": [
        "# 5. Why might you use set instead of a list in Python?\n",
        "\n",
        "-> A set is a unordered collection of unique elements which does not allow dublicates while list is an odered collection which allows dublicates."
      ],
      "metadata": {
        "id": "AjVhwPwqZF1k"
      }
    },
    {
      "cell_type": "markdown",
      "source": [
        "# 6. What is a string in python and how is it different from a list?\n",
        "\n",
        "-> A string is sequence of characters eclosed between single or double quotes\n",
        "-> A list is a sequence of items, where each item could be anything Ex: integer,float, string etc."
      ],
      "metadata": {
        "id": "eTAqet8DZRfW"
      }
    },
    {
      "cell_type": "markdown",
      "source": [
        "# 7. How do tuple ensure data integrity in Pyhtons?\n",
        "\n",
        "-> tuple ensures the data integrity throught its immutablity, as its elements cnnot be changed or modified or removed, this characteristics ensures that the information remains consistance throughout the programm's execution"
      ],
      "metadata": {
        "id": "m28aGCp1Za6L"
      }
    },
    {
      "cell_type": "markdown",
      "source": [
        "# 8. WHat is a hash table, how does it relate to dictionaries in Python?\n",
        "\n",
        "-> A hash table is a data structure used to insert, look up and remove key-value pairs quickly, it operates on hashing concept. The dictionaries in python are implemented using hash tables hence they relate to dictionaries in python."
      ],
      "metadata": {
        "id": "sFGpejEDZrEz"
      }
    },
    {
      "cell_type": "markdown",
      "source": [
        "# 9. Can lists contain different data types in Python?\n",
        "\n",
        "-> Yes, a list can contain different data types in Python."
      ],
      "metadata": {
        "id": "PRpCqoUUZ8ka"
      }
    },
    {
      "cell_type": "markdown",
      "source": [
        "# 10. Explain why strings are immutable in Python?\n",
        "\n",
        "-> Strings are immutable in python due to its design choice that prioritizes simplicity, safety and efficiency. As immutability ensures the string's value remain constant throughout lifetime."
      ],
      "metadata": {
        "id": "dgBfHy1najx8"
      }
    },
    {
      "cell_type": "markdown",
      "source": [
        "# 11. What advantages do dictionaries offer over lists for certain tasks?\n",
        "\n",
        "-> Dictionaries in python offer fast data retrieval unlike lists where you have to traverse through each element to find a value.\n"
      ],
      "metadata": {
        "id": "eIYaAzy9arV1"
      }
    },
    {
      "cell_type": "markdown",
      "source": [
        "# 12. Describe a scenario where using a tuple would be preferable over a list?\n",
        "\n",
        "-> tuples are primarily used to store data that does not change frequently."
      ],
      "metadata": {
        "id": "eB8v4XWJa-cT"
      }
    },
    {
      "cell_type": "markdown",
      "source": [
        "# 13. How do sets handle doulicate values in Python?\n",
        "\n",
        "-> Set are designed to store only unique elements, if there is an attempt to add a dublicate value, it is automatically ignored and the set remains unchanged."
      ],
      "metadata": {
        "id": "Z7sJY0kGbNJ6"
      }
    },
    {
      "cell_type": "markdown",
      "source": [
        "# 14. How does the 'in' keyword work differently for lists and dictionaries?\n",
        "\n",
        "-> The 'in' keyword in dictionary[dict] checks for the presence of a key\n",
        "\n",
        "-> The 'in' keyword checks the membership with a sequence such as list."
      ],
      "metadata": {
        "id": "KKQkBoExbbzH"
      }
    },
    {
      "cell_type": "markdown",
      "source": [
        "# 15. Can you modify the elements of a tuple? Explain why or why not?\n",
        "\n",
        "-> Now, you cannot modify the elements of a tuple as a tuple is immutable."
      ],
      "metadata": {
        "id": "5HNSunEcbn34"
      }
    },
    {
      "cell_type": "markdown",
      "source": [
        "# 16. What is a nested dictionary?, and give an example of its use case\n",
        "\n",
        "-> It is a dictionary ina dictionary, it is a collection of dictionaries into one dictionary, This structure allows to easily store and access family members records including childrens and grandchildrens, in a organise manner"
      ],
      "metadata": {
        "id": "H2kGBMDxbx03"
      }
    },
    {
      "cell_type": "markdown",
      "source": [
        "# 17. Describe the time complexcity of accessing elements in a dictionary\n",
        "\n",
        "-> Accessing an element in a dictionary by its key typically has an average time complexity of 0(1), meaning it takes constant time, regardless of the dictionary size"
      ],
      "metadata": {
        "id": "nj3HkKY6cGBM"
      }
    },
    {
      "cell_type": "markdown",
      "source": [
        "# 18. In what situations are lists preferred over dictionaries?\n",
        "\n",
        "-> sequence operations, such as maintaining a stack or queue and orderd collections a list are preferred."
      ],
      "metadata": {
        "id": "3DOHKQmhcUmE"
      }
    },
    {
      "cell_type": "markdown",
      "source": [
        "# 19. Why are dictionaries considered unordered and how does that affect data retrieval?\n",
        "\n",
        "-> dictionaries do not maintain any inherante order of the items based on when they were added."
      ],
      "metadata": {
        "id": "c2_sWti5dfZl"
      }
    },
    {
      "cell_type": "markdown",
      "source": [
        "# 20. Explain the difference between a list and a dictionary in terms of a data retrieval.\n",
        "\n",
        "-> A dictionary execls in fast lookups by key, while lists are more sutable for sequential access by index."
      ],
      "metadata": {
        "id": "YDyMyH1Ydypv"
      }
    },
    {
      "cell_type": "markdown",
      "source": [
        "# PRACTICAL QUETIONS\n"
      ],
      "metadata": {
        "id": "CbB2_-M2xLZH"
      }
    },
    {
      "cell_type": "markdown",
      "source": [
        "* 1. Write a code to creat a string using your name and print it."
      ],
      "metadata": {
        "id": "49eydY0fxLUg"
      }
    },
    {
      "cell_type": "code",
      "source": [
        "name = 'Rida farooqui'\n",
        "print(name)"
      ],
      "metadata": {
        "colab": {
          "base_uri": "https://localhost:8080/"
        },
        "id": "bpb5puJixsyv",
        "outputId": "9968960f-5edd-4431-ae7d-88a7e66cadcd"
      },
      "execution_count": 8,
      "outputs": [
        {
          "output_type": "stream",
          "name": "stdout",
          "text": [
            "Rida farooqui\n"
          ]
        }
      ]
    },
    {
      "cell_type": "markdown",
      "source": [
        "* 2. write a code to find thye length of the string \"Hello World\""
      ],
      "metadata": {
        "id": "nxg90x-MzE5B"
      }
    },
    {
      "cell_type": "code",
      "source": [
        "string = \"Hello World\"\n",
        "length = len(string)\n",
        "print(length)"
      ],
      "metadata": {
        "colab": {
          "base_uri": "https://localhost:8080/"
        },
        "id": "tTnF3V4vx3L7",
        "outputId": "bef4cba4-1e67-4618-ad4a-5ba208fc3c96"
      },
      "execution_count": 10,
      "outputs": [
        {
          "output_type": "stream",
          "name": "stdout",
          "text": [
            "11\n"
          ]
        }
      ]
    },
    {
      "cell_type": "markdown",
      "source": [
        "* 3. Write a code to slice the first 3 characters of the string \"Python Programming\""
      ],
      "metadata": {
        "id": "ScU0wwl8zy2u"
      }
    },
    {
      "cell_type": "code",
      "source": [
        "string = \"Python Programming\"\n",
        "sliced_string = string[:3]\n",
        "print(sliced_string)"
      ],
      "metadata": {
        "colab": {
          "base_uri": "https://localhost:8080/"
        },
        "id": "GfbodNDGzaC0",
        "outputId": "3bf7fd74-1f89-4fba-e836-bf72c41672d6"
      },
      "execution_count": 11,
      "outputs": [
        {
          "output_type": "stream",
          "name": "stdout",
          "text": [
            "Pyt\n"
          ]
        }
      ]
    },
    {
      "cell_type": "markdown",
      "source": [
        "* 4. Write a code to covert a string \"hello\" into Upper case"
      ],
      "metadata": {
        "id": "rimXGHWM0MA0"
      }
    },
    {
      "cell_type": "code",
      "source": [
        "string = \"hello\"\n",
        "uppercase_string = string.upper()\n",
        "print(uppercase_string)"
      ],
      "metadata": {
        "colab": {
          "base_uri": "https://localhost:8080/"
        },
        "id": "GiT5gR0W0I1R",
        "outputId": "606f5ce9-3749-4956-d08b-c5747314d16c"
      },
      "execution_count": 12,
      "outputs": [
        {
          "output_type": "stream",
          "name": "stdout",
          "text": [
            "HELLO\n"
          ]
        }
      ]
    },
    {
      "cell_type": "markdown",
      "source": [
        "* 5. Write a code to replace \"apple\" with \"orange\" in the string \" I like apple\""
      ],
      "metadata": {
        "id": "u8LWZCjt0ttp"
      }
    },
    {
      "cell_type": "code",
      "source": [
        "string = \"I like apple\"\n",
        "new_string = string.replace(\"apple\", \"orange\")\n",
        "print(new_string)"
      ],
      "metadata": {
        "colab": {
          "base_uri": "https://localhost:8080/"
        },
        "id": "njtV4gAV0rOU",
        "outputId": "3d49eff9-882d-43f8-e97b-244dbcc99f07"
      },
      "execution_count": 14,
      "outputs": [
        {
          "output_type": "stream",
          "name": "stdout",
          "text": [
            "I like orange\n"
          ]
        }
      ]
    },
    {
      "cell_type": "markdown",
      "source": [
        "* 6. Write a code to creat a list of numbers from 1 to 5 and print it"
      ],
      "metadata": {
        "id": "Gh8BA6Wq1-ui"
      }
    },
    {
      "cell_type": "code",
      "source": [
        "r1 = 1 # range 1\n",
        "r2 = 5 # range 2\n",
        "li = list(range(r1, r2))\n",
        "print(li)"
      ],
      "metadata": {
        "colab": {
          "base_uri": "https://localhost:8080/"
        },
        "id": "3z5be0WO1xXq",
        "outputId": "0add36a4-57b6-47a5-d4ac-5ac2def57715"
      },
      "execution_count": 17,
      "outputs": [
        {
          "output_type": "stream",
          "name": "stdout",
          "text": [
            "[1, 2, 3, 4]\n"
          ]
        }
      ]
    },
    {
      "cell_type": "markdown",
      "source": [
        "* 7. Write a code to appened the number 10 to the list [1, 2, 3, 4].\n"
      ],
      "metadata": {
        "id": "qMY-v5Q_2r7w"
      }
    },
    {
      "cell_type": "code",
      "source": [
        "my_list = [1, 2, 3, 4]\n",
        "my_list.append(10)\n",
        "print(my_list)"
      ],
      "metadata": {
        "colab": {
          "base_uri": "https://localhost:8080/"
        },
        "id": "v30Y24Aa2nfP",
        "outputId": "e2798e54-5cf7-4690-9059-764aef13d309"
      },
      "execution_count": 18,
      "outputs": [
        {
          "output_type": "stream",
          "name": "stdout",
          "text": [
            "[1, 2, 3, 4, 10]\n"
          ]
        }
      ]
    },
    {
      "cell_type": "markdown",
      "source": [
        "* 8. Write a code to remove the number 3 from the list [1, 2, 3, 4, 5]"
      ],
      "metadata": {
        "id": "c0LPAsIQ3P2G"
      }
    },
    {
      "cell_type": "code",
      "source": [
        "my_list = [1, 2, 3, 4, 5]\n",
        "removed_element = my_list.pop(2)\n",
        "print(my_list)"
      ],
      "metadata": {
        "colab": {
          "base_uri": "https://localhost:8080/"
        },
        "id": "hzEJk2163OiT",
        "outputId": "22ceb037-9c9e-42d2-cc05-d68069f8122e"
      },
      "execution_count": 20,
      "outputs": [
        {
          "output_type": "stream",
          "name": "stdout",
          "text": [
            "[1, 2, 4, 5]\n"
          ]
        }
      ]
    },
    {
      "cell_type": "markdown",
      "source": [
        "* 9. Write a code to access the second element in the list ['a', 'b', 'c', 'd']"
      ],
      "metadata": {
        "id": "IErwe_y74Bzm"
      }
    },
    {
      "cell_type": "code",
      "source": [
        "my_list = ['a','b','c','d']\n",
        "second_element = my_list[1]\n",
        "print(second_element)"
      ],
      "metadata": {
        "colab": {
          "base_uri": "https://localhost:8080/"
        },
        "id": "ibYXH2VG3jOu",
        "outputId": "d174bcfe-571c-4e0a-ef1e-f54ede0cab79"
      },
      "execution_count": 22,
      "outputs": [
        {
          "output_type": "stream",
          "name": "stdout",
          "text": [
            "b\n"
          ]
        }
      ]
    },
    {
      "cell_type": "markdown",
      "source": [
        "* 10. Write a code to reverse the list [10, 20, 30, 40, 50]"
      ],
      "metadata": {
        "id": "yb-OxIjD4r0q"
      }
    },
    {
      "cell_type": "code",
      "source": [
        "my_list = [10, 20, 30, 40, 50]\n",
        "reversed_list = my_list[::-1]\n",
        "print(reversed_list)"
      ],
      "metadata": {
        "colab": {
          "base_uri": "https://localhost:8080/"
        },
        "id": "_gDKJtR_4mDb",
        "outputId": "0b5ae1b7-ffa5-4201-ca71-8cab692d06ec"
      },
      "execution_count": 25,
      "outputs": [
        {
          "output_type": "stream",
          "name": "stdout",
          "text": [
            "[50, 40, 30, 20, 10]\n"
          ]
        }
      ]
    },
    {
      "cell_type": "markdown",
      "source": [
        "* 11. Write a code to creat a tupke with the elements 100, 200, 300 and print it"
      ],
      "metadata": {
        "id": "3yaNFox25k_X"
      }
    },
    {
      "cell_type": "code",
      "source": [
        "tuple = (100, 200, 300)\n",
        "print(tuple)"
      ],
      "metadata": {
        "colab": {
          "base_uri": "https://localhost:8080/"
        },
        "id": "sy__KzJk4_q-",
        "outputId": "5bf4faad-9e5a-49d3-f5c6-ab0de4d16fe9"
      },
      "execution_count": 27,
      "outputs": [
        {
          "output_type": "stream",
          "name": "stdout",
          "text": [
            "(100, 200, 300)\n"
          ]
        }
      ]
    },
    {
      "cell_type": "markdown",
      "source": [
        "* 12. Write a code to access the second to last element of the tuple ('red', 'green', 'blue', 'yellow')"
      ],
      "metadata": {
        "id": "LqGSyj6n5lob"
      }
    },
    {
      "cell_type": "code",
      "source": [
        "tuple = ('red', 'green', 'blue', 'yellow')\n",
        "second_to_last_element = tuple[-2]\n",
        "print(second_to_last_element)"
      ],
      "metadata": {
        "colab": {
          "base_uri": "https://localhost:8080/"
        },
        "id": "N5r0-Ca45jPo",
        "outputId": "2f98eb42-dc28-4e3a-f71e-a1185337c982"
      },
      "execution_count": 28,
      "outputs": [
        {
          "output_type": "stream",
          "name": "stdout",
          "text": [
            "blue\n"
          ]
        }
      ]
    },
    {
      "cell_type": "markdown",
      "source": [
        "* 13. Write a code to find the minimum number in the tuple (10,20,5,15)"
      ],
      "metadata": {
        "id": "o7yS7m2C6dC2"
      }
    },
    {
      "cell_type": "code",
      "source": [
        "tuple = (10,20,5,15)\n",
        "minimum_number = min(tuple)\n",
        "print(minimum_number)"
      ],
      "metadata": {
        "colab": {
          "base_uri": "https://localhost:8080/"
        },
        "id": "ldfHF4OA6sKU",
        "outputId": "5f7c4b30-28c6-4833-a057-ee8cf846e284"
      },
      "execution_count": 29,
      "outputs": [
        {
          "output_type": "stream",
          "name": "stdout",
          "text": [
            "5\n"
          ]
        }
      ]
    },
    {
      "cell_type": "markdown",
      "source": [
        "* 14. Write a code to find the index of the element \"cat\" in the tuple ('dog','cat,'rabbit')"
      ],
      "metadata": {
        "id": "06iZkLC368Cd"
      }
    },
    {
      "cell_type": "code",
      "source": [
        "tuple = ('dog','cat','rabbit')\n",
        "index = tuple.index('cat')\n",
        "print(index)"
      ],
      "metadata": {
        "colab": {
          "base_uri": "https://localhost:8080/"
        },
        "id": "Qw3jtY-O6xkP",
        "outputId": "8b75b8a2-2503-491a-9386-1f63f25c2e63"
      },
      "execution_count": 30,
      "outputs": [
        {
          "output_type": "stream",
          "name": "stdout",
          "text": [
            "1\n"
          ]
        }
      ]
    },
    {
      "cell_type": "markdown",
      "source": [
        "* 15. Write a code to creat a tuple containing three different fruits and check \"kiwi\" is in it."
      ],
      "metadata": {
        "id": "-5W5Vphd7cla"
      }
    },
    {
      "cell_type": "code",
      "source": [
        "creat_tuple = ('apple', 'kiwi', 'orange')\n",
        "check_element = 'kiwi' in creat_tuple\n",
        "print(check_element)"
      ],
      "metadata": {
        "colab": {
          "base_uri": "https://localhost:8080/"
        },
        "id": "eaRLkvts7agr",
        "outputId": "a28b8521-cb1a-43bd-9733-d7bb3d393af2"
      },
      "execution_count": 32,
      "outputs": [
        {
          "output_type": "stream",
          "name": "stdout",
          "text": [
            "True\n"
          ]
        }
      ]
    },
    {
      "cell_type": "markdown",
      "source": [
        "* 16. Write a code to creat a set with the element 'a', 'b', 'c' and print it."
      ],
      "metadata": {
        "id": "dSJJCCZS8FoW"
      }
    },
    {
      "cell_type": "code",
      "source": [
        "creat_set = {'a', 'b', 'c'}\n",
        "print(creat_set)"
      ],
      "metadata": {
        "colab": {
          "base_uri": "https://localhost:8080/"
        },
        "id": "24s4d99x7_3f",
        "outputId": "77d4faa7-7d7a-4b92-b41a-1a88333e62a3"
      },
      "execution_count": 33,
      "outputs": [
        {
          "output_type": "stream",
          "name": "stdout",
          "text": [
            "{'c', 'b', 'a'}\n"
          ]
        }
      ]
    },
    {
      "cell_type": "markdown",
      "source": [
        "* 17. Wirte a code to clear all elements from the set{1,2,3,4,5}"
      ],
      "metadata": {
        "id": "jdo05rS482Jc"
      }
    },
    {
      "cell_type": "code",
      "source": [
        "my_set = {1,2,3,4,5}\n",
        "my_set.clear()\n",
        "print(my_set)"
      ],
      "metadata": {
        "colab": {
          "base_uri": "https://localhost:8080/"
        },
        "id": "C0UN2NA58zEL",
        "outputId": "e68be3c3-1b78-4152-95d7-9f407c4e54ca"
      },
      "execution_count": 34,
      "outputs": [
        {
          "output_type": "stream",
          "name": "stdout",
          "text": [
            "set()\n"
          ]
        }
      ]
    },
    {
      "cell_type": "markdown",
      "source": [
        "* 18. Write a code to remove the element 4 from the set {1,2,3,4}"
      ],
      "metadata": {
        "id": "r75YSau79QK3"
      }
    },
    {
      "cell_type": "code",
      "source": [
        "my_set = {1,2,3,4}\n",
        "my_set.remove(4)\n",
        "print(my_set)"
      ],
      "metadata": {
        "colab": {
          "base_uri": "https://localhost:8080/"
        },
        "id": "0Qa2iGA89Z8O",
        "outputId": "e9f85505-5cd4-4739-b03d-310f525cf859"
      },
      "execution_count": 35,
      "outputs": [
        {
          "output_type": "stream",
          "name": "stdout",
          "text": [
            "{1, 2, 3}\n"
          ]
        }
      ]
    },
    {
      "cell_type": "markdown",
      "source": [
        "* 19. Wirte a code to find the union of two sets {1,2,3} and {3,4,5}."
      ],
      "metadata": {
        "id": "igJinLnn9apa"
      }
    },
    {
      "cell_type": "code",
      "source": [
        "set1 = {1,2,3}\n",
        "set2 = {3,4,5}\n",
        "union_set = set1.union(set2)\n",
        "print(union_set)"
      ],
      "metadata": {
        "colab": {
          "base_uri": "https://localhost:8080/"
        },
        "id": "dwzQ2nHs9BWl",
        "outputId": "682904bd-b951-428e-aea0-074c58d2fb98"
      },
      "execution_count": 36,
      "outputs": [
        {
          "output_type": "stream",
          "name": "stdout",
          "text": [
            "{1, 2, 3, 4, 5}\n"
          ]
        }
      ]
    },
    {
      "cell_type": "markdown",
      "source": [
        "* 20. Write a code to find the itersection of two sets {1,2,3} and {2,3,4}\n"
      ],
      "metadata": {
        "id": "KLoT2s-V-RPx"
      }
    },
    {
      "cell_type": "code",
      "source": [
        "set1 = {1,2,3}\n",
        "set2 = {2,3,4}\n",
        "intersection_set = set1.intersection(set2)\n",
        "print(intersection_set)"
      ],
      "metadata": {
        "colab": {
          "base_uri": "https://localhost:8080/"
        },
        "id": "G97G99-J-OMk",
        "outputId": "51fb4aaf-a17a-4466-81af-5573b0d6d1ba"
      },
      "execution_count": 37,
      "outputs": [
        {
          "output_type": "stream",
          "name": "stdout",
          "text": [
            "{2, 3}\n"
          ]
        }
      ]
    },
    {
      "cell_type": "markdown",
      "source": [
        "* 21. Write a code to creat a dictionary with the keys \"name\", \"age\", \"city\" and print it."
      ],
      "metadata": {
        "id": "VinUjKpL-8oD"
      }
    },
    {
      "cell_type": "code",
      "source": [
        "creat_dictionary = {'name': 'Rida', 'age':18,'city':'Hyderabad'}\n",
        "print(creat_dictionary)"
      ],
      "metadata": {
        "colab": {
          "base_uri": "https://localhost:8080/"
        },
        "id": "anaPzWVI-4Y4",
        "outputId": "5ac67f9a-3212-4af0-cce7-b710f8be5ed4"
      },
      "execution_count": 41,
      "outputs": [
        {
          "output_type": "stream",
          "name": "stdout",
          "text": [
            "{'name': 'Rida', 'age': 18, 'city': 'Hyderabad'}\n"
          ]
        }
      ]
    },
    {
      "cell_type": "markdown",
      "source": [
        "* 22. Write a code to add a new key-value pair \"country\":\"USA\" to the dictionary {'name':'john', 'age':25}"
      ],
      "metadata": {
        "id": "nDgy7B5_ACNp"
      }
    },
    {
      "cell_type": "code",
      "source": [
        "my_dictionary = {'name':'john', 'age':25}\n",
        "my_dictionary['country'] = 'USA'\n",
        "print(my_dictionary)"
      ],
      "metadata": {
        "colab": {
          "base_uri": "https://localhost:8080/"
        },
        "id": "Z95Q0uko_rc0",
        "outputId": "959685ba-70b0-4fec-c507-2738eed0f1fc"
      },
      "execution_count": 42,
      "outputs": [
        {
          "output_type": "stream",
          "name": "stdout",
          "text": [
            "{'name': 'john', 'age': 25, 'country': 'USA'}\n"
          ]
        }
      ]
    },
    {
      "cell_type": "markdown",
      "source": [
        "* 23. Write a code to access the value associated with the key \"name\" in the dictionary {'name':'Alice', 'age':,30}"
      ],
      "metadata": {
        "id": "FcofO-ytAstK"
      }
    },
    {
      "cell_type": "code",
      "source": [
        "my_dictionary = {'name':'Alice', 'age':30}\n",
        "value = my_dictionary['name']\n",
        "print(value)"
      ],
      "metadata": {
        "colab": {
          "base_uri": "https://localhost:8080/"
        },
        "id": "RRWxWqeHAl6b",
        "outputId": "d6cfb792-f4a7-41d2-cff2-762965434703"
      },
      "execution_count": 44,
      "outputs": [
        {
          "output_type": "stream",
          "name": "stdout",
          "text": [
            "Alice\n"
          ]
        }
      ]
    },
    {
      "cell_type": "markdown",
      "source": [
        "* 24. Write a code to remove the key 'age' from the dictionary {'name':'Bob\", 'age':22, 'city':'Newyork'}."
      ],
      "metadata": {
        "id": "BIpDafvvBzHq"
      }
    },
    {
      "cell_type": "code",
      "source": [
        "my_dictionary = {'name':'Bob', 'age':22, 'city':'Newyork'}\n",
        "del my_dictionary['age']\n",
        "print(my_dictionary)"
      ],
      "metadata": {
        "colab": {
          "base_uri": "https://localhost:8080/"
        },
        "id": "EPsl3o0aBoUQ",
        "outputId": "c237b4f8-a390-4f45-e6c5-89128eb92ef5"
      },
      "execution_count": 51,
      "outputs": [
        {
          "output_type": "stream",
          "name": "stdout",
          "text": [
            "{'name': 'Bob', 'city': 'Newyork'}\n"
          ]
        }
      ]
    },
    {
      "cell_type": "markdown",
      "source": [
        "* 25. Write a code to check if the key 'city' exists in the dictionary {'name':'Alice', 'city':'Paris\"}"
      ],
      "metadata": {
        "id": "Ahn4DSZdC-eT"
      }
    },
    {
      "cell_type": "code",
      "source": [
        "my_dictionary = {'name':'Alice', 'city':'Paris'}\n",
        "check_key = 'city' in my_dictionary\n",
        "print(check_key)"
      ],
      "metadata": {
        "colab": {
          "base_uri": "https://localhost:8080/"
        },
        "id": "iOmfXQGnCeP1",
        "outputId": "e7884155-5669-4b94-c035-c6253a522891"
      },
      "execution_count": 52,
      "outputs": [
        {
          "output_type": "stream",
          "name": "stdout",
          "text": [
            "True\n"
          ]
        }
      ]
    },
    {
      "cell_type": "markdown",
      "source": [
        "* 26. Write a code to creat a list, a tuple, and a dictionary and print them all"
      ],
      "metadata": {
        "id": "m5LSHMHdDAsI"
      }
    },
    {
      "cell_type": "code",
      "source": [
        "my_list = [1,2,3,4]\n",
        "my_tuple = (1,2,3,4)\n",
        "my_dictionary = {'name':'Rida', 'age':'18'}\n",
        "print(my_list)\n",
        "print(my_tuple)\n",
        "print(my_dictionary)"
      ],
      "metadata": {
        "colab": {
          "base_uri": "https://localhost:8080/"
        },
        "id": "suzkXCuaDDbh",
        "outputId": "2f1c9f37-1666-40c0-f25c-fd74fd53da9a"
      },
      "execution_count": 53,
      "outputs": [
        {
          "output_type": "stream",
          "name": "stdout",
          "text": [
            "[1, 2, 3, 4]\n",
            "(1, 2, 3, 4)\n",
            "{'name': 'Rida', 'age': '18'}\n"
          ]
        }
      ]
    },
    {
      "cell_type": "markdown",
      "source": [
        "* 27. Write a code to creat a list 5 random number between 1 and 100, sort it in ascending order, and print the result.(replaced)"
      ],
      "metadata": {
        "id": "bD_CQYglDDsl"
      }
    },
    {
      "cell_type": "code",
      "source": [
        "import random\n",
        "random_number = [random.randint(1,100) for _ in range(5)]\n",
        "random_number.sort()\n",
        "print(random_number)\n"
      ],
      "metadata": {
        "colab": {
          "base_uri": "https://localhost:8080/"
        },
        "id": "XdeO3LqpDFvP",
        "outputId": "e927c670-211e-4938-fe14-88d4eba86c66"
      },
      "execution_count": 58,
      "outputs": [
        {
          "output_type": "stream",
          "name": "stdout",
          "text": [
            "[28, 49, 59, 59, 72]\n"
          ]
        }
      ]
    },
    {
      "cell_type": "markdown",
      "source": [
        "* 28. Write a code to creat a list with strings and print the elements at the third index."
      ],
      "metadata": {
        "id": "sO_iLZTdDF6w"
      }
    },
    {
      "cell_type": "code",
      "source": [
        "my_list = ['hi', 'hello', 'how are you', 'not good but not bad']\n",
        "third_element = my_list[2]\n",
        "print(third_element)"
      ],
      "metadata": {
        "colab": {
          "base_uri": "https://localhost:8080/"
        },
        "id": "b7azpIDNDHfO",
        "outputId": "898e14c8-d03a-4032-dfa3-33780eb26de3"
      },
      "execution_count": 59,
      "outputs": [
        {
          "output_type": "stream",
          "name": "stdout",
          "text": [
            "how are you\n"
          ]
        }
      ]
    },
    {
      "cell_type": "markdown",
      "source": [
        "* 29. Write a code to combine two dictionaries into one and print."
      ],
      "metadata": {
        "id": "BEM9QAReDINe"
      }
    },
    {
      "cell_type": "code",
      "source": [
        "my_dictionary1 = {'name':'Rida', 'age':18}\n",
        "my_dictionary2 = {'city':'Hyderabad', 'country':'India'}\n",
        "combined_dictionary = {**my_dictionary1, **my_dictionary2}\n",
        "print(combined_dictionary)"
      ],
      "metadata": {
        "colab": {
          "base_uri": "https://localhost:8080/"
        },
        "id": "RSuHsteoDKAc",
        "outputId": "0ac60588-c350-483c-a55f-16da73cb2217"
      },
      "execution_count": 60,
      "outputs": [
        {
          "output_type": "stream",
          "name": "stdout",
          "text": [
            "{'name': 'Rida', 'age': 18, 'city': 'Hyderabad', 'country': 'India'}\n"
          ]
        }
      ]
    },
    {
      "cell_type": "markdown",
      "source": [
        "* 30. Write a code to convert a list of strings into a set."
      ],
      "metadata": {
        "id": "MJHVariFDKP6"
      }
    },
    {
      "cell_type": "code",
      "source": [
        "s = 'ohio'\n",
        "print(type(s))\n",
        "print(s)\n",
        "\n",
        "set_s = set(s)\n",
        "print(type(set_s))\n",
        "print(set_s)"
      ],
      "metadata": {
        "colab": {
          "base_uri": "https://localhost:8080/"
        },
        "id": "9lTrn7nKDMwQ",
        "outputId": "cc3b8229-3c26-41c9-c13d-5f81bde3e336"
      },
      "execution_count": 61,
      "outputs": [
        {
          "output_type": "stream",
          "name": "stdout",
          "text": [
            "<class 'str'>\n",
            "ohio\n",
            "<class 'set'>\n",
            "{'o', 'h', 'i'}\n"
          ]
        }
      ]
    },
    {
      "cell_type": "code",
      "source": [],
      "metadata": {
        "id": "EihgL0b3Ihm5"
      },
      "execution_count": null,
      "outputs": []
    }
  ]
}